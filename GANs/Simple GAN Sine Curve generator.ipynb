{
 "cells": [
  {
   "cell_type": "code",
   "execution_count": 1,
   "metadata": {},
   "outputs": [],
   "source": [
    "import torch\n",
    "from torch import nn\n",
    "\n",
    "import math\n",
    "import matplotlib.pyplot as plt"
   ]
  },
  {
   "cell_type": "code",
   "execution_count": 2,
   "metadata": {},
   "outputs": [
    {
     "data": {
      "text/plain": [
       "<torch._C.Generator at 0x1e99d346970>"
      ]
     },
     "execution_count": 2,
     "metadata": {},
     "output_type": "execute_result"
    }
   ],
   "source": [
    "torch.manual_seed(111)"
   ]
  },
  {
   "cell_type": "code",
   "execution_count": 3,
   "metadata": {},
   "outputs": [],
   "source": [
    "train_data_length = 1024\n",
    "train_data = torch.zeros((train_data_length, 2))\n",
    "train_data[:, 0] = 2 * math.pi * torch.rand(train_data_length)\n",
    "train_data[:, 1] = torch.sin(train_data[:, 0])\n",
    "train_labels = torch.zeros(train_data_length)\n",
    "train_set = [\n",
    "    (train_data[i], train_labels[i]) for i in range(train_data_length)]"
   ]
  },
  {
   "cell_type": "code",
   "execution_count": 8,
   "metadata": {},
   "outputs": [
    {
     "data": {
      "text/plain": [
       "[<matplotlib.lines.Line2D at 0x1e9a3086ee0>]"
      ]
     },
     "execution_count": 8,
     "metadata": {},
     "output_type": "execute_result"
    },
    {
     "data": {
      "image/png": "[encoded data removed]",
      "text/plain": [
       "<Figure size 432x288 with 1 Axes>"
      ]
     },
     "metadata": {
      "needs_background": "light"
     },
     "output_type": "display_data"
    }
   ],
   "source": [
    "plt.plot(train_data[:, 0], train_data[:, 1], \"r.\")"
   ]
  },
  {
   "cell_type": "code",
   "execution_count": 10,
   "metadata": {},
   "outputs": [],
   "source": [
    "#data loader\n",
    "batch_size = 32\n",
    "train_loader = torch.utils.data.DataLoader(\n",
    "    train_set, batch_size=batch_size, shuffle=True)"
   ]
  },
  {
   "cell_type": "code",
   "execution_count": 12,
   "metadata": {},
   "outputs": [],
   "source": [
    "#discriminatort class\n",
    "class Discriminator(nn.Module):\n",
    "    def __init__(self):\n",
    "        super().__init__()\n",
    "        self.model = nn.Sequential(\n",
    "            nn.Linear(2, 256),\n",
    "            nn.ReLU(),\n",
    "            nn.Dropout(0.3),\n",
    "            nn.Linear(256, 128),\n",
    "            nn.ReLU(),\n",
    "            nn.Dropout(0.3),\n",
    "            nn.Linear(128, 64),\n",
    "            nn.ReLU(),\n",
    "            nn.Dropout(0.3),\n",
    "            nn.Linear(64, 1),\n",
    "            nn.Sigmoid())\n",
    "\n",
    "    def forward(self, x):\n",
    "        output = self.model(x)\n",
    "        return output"
   ]
  },
  {
   "cell_type": "code",
   "execution_count": 13,
   "metadata": {},
   "outputs": [],
   "source": [
    "discriminator = Discriminator()"
   ]
  },
  {
   "cell_type": "code",
   "execution_count": 14,
   "metadata": {},
   "outputs": [],
   "source": [
    "class Generator(nn.Module):\n",
    "    def __init__(self):\n",
    "        super().__init__()\n",
    "        self.model = nn.Sequential(\n",
    "            nn.Linear(2, 16),\n",
    "            nn.ReLU(),\n",
    "            nn.Linear(16, 32),\n",
    "            nn.ReLU(),\n",
    "            nn.Linear(32, 2))\n",
    "\n",
    "    def forward(self, x):\n",
    "        output = self.model(x)\n",
    "        return output\n",
    "\n"
   ]
  },
  {
   "cell_type": "code",
   "execution_count": 15,
   "metadata": {},
   "outputs": [],
   "source": [
    "generator = Generator()"
   ]
  },
  {
   "cell_type": "code",
   "execution_count": 16,
   "metadata": {},
   "outputs": [],
   "source": [
    "\n",
    "lr = 0.001\n",
    "num_epochs = 300\n",
    "loss_function = nn.BCELoss()"
   ]
  },
  {
   "cell_type": "code",
   "execution_count": 19,
   "metadata": {},
   "outputs": [],
   "source": [
    "\n",
    "optimizer_discriminator = torch.optim.Adam(discriminator.parameters(), lr=lr)\n",
    "optimizer_generator = torch.optim.Adam(generator.parameters(), lr=lr)"
   ]
  },
  {
   "cell_type": "code",
   "execution_count": 20,
   "metadata": {},
   "outputs": [
    {
     "name": "stdout",
     "output_type": "stream",
     "text": [
      "Epoch: 0 Loss D.: 0.15659493207931519\n",
      "Epoch: 0 Loss G.: 2.125444173812866\n",
      "Epoch: 10 Loss D.: 0.7301511764526367\n",
      "Epoch: 10 Loss G.: 0.8579634428024292\n",
      "Epoch: 20 Loss D.: 0.5762825012207031\n",
      "Epoch: 20 Loss G.: 1.1432777643203735\n",
      "Epoch: 30 Loss D.: 0.519383430480957\n",
      "Epoch: 30 Loss G.: 0.9615718126296997\n",
      "Epoch: 40 Loss D.: 0.605578601360321\n",
      "Epoch: 40 Loss G.: 0.9339624643325806\n",
      "Epoch: 50 Loss D.: 0.6527573466300964\n",
      "Epoch: 50 Loss G.: 0.7844472527503967\n",
      "Epoch: 60 Loss D.: 0.7353853583335876\n",
      "Epoch: 60 Loss G.: 0.7711812853813171\n",
      "Epoch: 70 Loss D.: 0.630572497844696\n",
      "Epoch: 70 Loss G.: 0.9584949016571045\n",
      "Epoch: 80 Loss D.: 0.7324737906455994\n",
      "Epoch: 80 Loss G.: 0.6623930335044861\n",
      "Epoch: 90 Loss D.: 0.6931275725364685\n",
      "Epoch: 90 Loss G.: 0.6933395862579346\n",
      "Epoch: 100 Loss D.: 0.6946242451667786\n",
      "Epoch: 100 Loss G.: 0.6855998635292053\n",
      "Epoch: 110 Loss D.: 0.6910507082939148\n",
      "Epoch: 110 Loss G.: 0.7046358585357666\n",
      "Epoch: 120 Loss D.: 0.6845713257789612\n",
      "Epoch: 120 Loss G.: 0.7552172541618347\n",
      "Epoch: 130 Loss D.: 0.6730624437332153\n",
      "Epoch: 130 Loss G.: 0.7087056636810303\n",
      "Epoch: 140 Loss D.: 0.6936743855476379\n",
      "Epoch: 140 Loss G.: 0.6987411975860596\n",
      "Epoch: 150 Loss D.: 0.6844861507415771\n",
      "Epoch: 150 Loss G.: 0.6896648406982422\n",
      "Epoch: 160 Loss D.: 0.6777338981628418\n",
      "Epoch: 160 Loss G.: 0.6702061891555786\n",
      "Epoch: 170 Loss D.: 0.6817265748977661\n",
      "Epoch: 170 Loss G.: 0.6904105544090271\n",
      "Epoch: 180 Loss D.: 0.699833869934082\n",
      "Epoch: 180 Loss G.: 0.6887400150299072\n",
      "Epoch: 190 Loss D.: 0.6871407628059387\n",
      "Epoch: 190 Loss G.: 0.7017640471458435\n",
      "Epoch: 200 Loss D.: 0.7149165272712708\n",
      "Epoch: 200 Loss G.: 0.7228822708129883\n",
      "Epoch: 210 Loss D.: 0.6980615854263306\n",
      "Epoch: 210 Loss G.: 0.7066727876663208\n",
      "Epoch: 220 Loss D.: 0.655641496181488\n",
      "Epoch: 220 Loss G.: 0.7445141077041626\n",
      "Epoch: 230 Loss D.: 0.6727052927017212\n",
      "Epoch: 230 Loss G.: 0.7158209681510925\n",
      "Epoch: 240 Loss D.: 0.6625171899795532\n",
      "Epoch: 240 Loss G.: 0.7082362771034241\n",
      "Epoch: 250 Loss D.: 0.6670878529548645\n",
      "Epoch: 250 Loss G.: 0.7480736970901489\n",
      "Epoch: 260 Loss D.: 0.6870677471160889\n",
      "Epoch: 260 Loss G.: 0.7930163145065308\n",
      "Epoch: 270 Loss D.: 0.6864579916000366\n",
      "Epoch: 270 Loss G.: 0.6997458934783936\n",
      "Epoch: 280 Loss D.: 0.7900521755218506\n",
      "Epoch: 280 Loss G.: 0.6625835299491882\n",
      "Epoch: 290 Loss D.: 0.7296802401542664\n",
      "Epoch: 290 Loss G.: 0.753587007522583\n"
     ]
    }
   ],
   "source": [
    "for epoch in range(num_epochs):\n",
    "    for n, (real_samples, _) in enumerate(train_loader):\n",
    "        # Data for descriminator training\n",
    "        real_samples_labels = torch.ones((batch_size, 1))\n",
    "        latent_space_samples = torch.randn((batch_size, 2))\n",
    "        generated_samples = generator(latent_space_samples)\n",
    "        generated_samples_labels = torch.zeros((batch_size, 1))\n",
    "        all_samples = torch.cat((real_samples, generated_samples))\n",
    "        all_samples_labels = torch.cat(\n",
    "            (real_samples_labels, generated_samples_labels))\n",
    "\n",
    "        # Discriminator training\n",
    "        discriminator.zero_grad()\n",
    "        output_discriminator = discriminator(all_samples)\n",
    "        loss_discriminator = loss_function(\n",
    "            output_discriminator, all_samples_labels)\n",
    "        loss_discriminator.backward()\n",
    "        optimizer_discriminator.step()\n",
    "\n",
    "        # Data for generator training\n",
    "        latent_space_samples = torch.randn((batch_size, 2))\n",
    "\n",
    "        # Generator training\n",
    "        generator.zero_grad()\n",
    "        generated_samples = generator(latent_space_samples)\n",
    "        output_discriminator_generated = discriminator(generated_samples)\n",
    "        loss_generator = loss_function(\n",
    "            output_discriminator_generated, real_samples_labels)\n",
    "        loss_generator.backward()\n",
    "        optimizer_generator.step()\n",
    "\n",
    "        # Output value of loss function\n",
    "        if epoch % 10 == 0 and n == batch_size - 1:\n",
    "            print(f\"Epoch: {epoch} Loss D.: {loss_discriminator}\")\n",
    "            print(f\"Epoch: {epoch} Loss G.: {loss_generator}\")"
   ]
  },
  {
   "cell_type": "code",
   "execution_count": 30,
   "metadata": {},
   "outputs": [],
   "source": [
    "latent_space_samples = torch.randn(100, 2)\n",
    "generated_samples = generator(latent_space_samples)"
   ]
  },
  {
   "cell_type": "code",
   "execution_count": 33,
   "metadata": {},
   "outputs": [],
   "source": [
    "latent_space_samples = torch.randn(100, 2)\n",
    "latent_space_samples=latent_space_samples.detach()"
   ]
  },
  {
   "cell_type": "code",
   "execution_count": 22,
   "metadata": {},
   "outputs": [
    {
     "data": {
      "text/plain": [
       "[<matplotlib.lines.Line2D at 0x1e9a3188520>]"
      ]
     },
     "execution_count": 22,
     "metadata": {},
     "output_type": "execute_result"
    },
    {
     "data": {
      "image/png": "[encoded data removed]",
      "text/plain": [
       "<Figure size 432x288 with 1 Axes>"
      ]
     },
     "metadata": {
      "needs_background": "light"
     },
     "output_type": "display_data"
    }
   ],
   "source": [
    "generated_samples = generated_samples.detach()\n",
    "plt.plot(generated_samples[:, 0], generated_samples[:, 1], \".\")"
   ]
  },
  {
   "cell_type": "code",
   "execution_count": null,
   "metadata": {},
   "outputs": [],
   "source": []
  }
 ],
 "metadata": {
  "kernelspec": {
   "display_name": "Python 3",
   "language": "python",
   "name": "python3"
  },
  "language_info": {
   "codemirror_mode": {
    "name": "ipython",
    "version": 3
   },
   "file_extension": ".py",
   "mimetype": "text/x-python",
   "name": "python",
   "nbconvert_exporter": "python",
   "pygments_lexer": "ipython3",
   "version": "3.8.3"
  }
 },
 "nbformat": 4,
 "nbformat_minor": 4
}
